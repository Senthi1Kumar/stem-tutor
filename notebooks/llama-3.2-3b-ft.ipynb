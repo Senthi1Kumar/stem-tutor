{
 "cells": [
  {
   "cell_type": "markdown",
   "metadata": {},
   "source": [
    "## Fine-tune Llama-3.2-3B with distillation using Unsloth and TRL\n",
    "\n",
    "Heavily adapted from the unsloth's [Llama-3.2 (3B) notebook](https://colab.research.google.com/github/unslothai/notebooks/blob/main/nb/Llama3.2_(1B_and_3B)-Conversational.ipynb)\n",
    "\n",
    "> Note: Install `unsloth` properly according to your system, platform and library specs from [here](https://docs.unsloth.ai/get-started/installing-+-updating)."
   ]
  },
  {
   "cell_type": "code",
   "execution_count": 1,
   "metadata": {
    "notebookRunGroups": {
     "groupValue": "1"
    }
   },
   "outputs": [
    {
     "name": "stdout",
     "output_type": "stream",
     "text": [
      "🦥 Unsloth: Will patch your computer to enable 2x faster free finetuning.\n",
      "🦥 Unsloth Zoo will now patch everything to make training faster!\n",
      "[2025-03-10 18:09:45,499] [INFO] [real_accelerator.py:222:get_accelerator] Setting ds_accelerator to cuda (auto detect)\n"
     ]
    },
    {
     "name": "stderr",
     "output_type": "stream",
     "text": [
      "/usr/bin/ld: cannot find -laio: No such file or directory\n",
      "collect2: error: ld returned 1 exit status\n",
      "/usr/bin/ld: cannot find -laio: No such file or directory\n",
      "collect2: error: ld returned 1 exit status\n"
     ]
    },
    {
     "name": "stdout",
     "output_type": "stream",
     "text": [
      "==((====))==  Unsloth 2025.3.9: Fast Llama patching. Transformers: 4.46.2.\n",
      "   \\\\   /|    NVIDIA GeForce RTX 3050 Laptop GPU. Num GPUs = 1. Max memory: 4.0 GB. Platform: Linux.\n",
      "O^O/ \\_/ \\    Torch: 2.6.0+cu126. CUDA: 8.6. CUDA Toolkit: 12.6. Triton: 3.2.0\n",
      "\\        /    Bfloat16 = TRUE. FA [Xformers = 0.0.29.post3. FA2 = True]\n",
      " \"-____-\"     Free license: http://github.com/unslothai/unsloth\n",
      "Unsloth: Fast downloading is enabled - ignore downloading bars which are red colored!\n"
     ]
    },
    {
     "data": {
      "application/vnd.jupyter.widget-view+json": {
       "model_id": "c318ca1567e44515852e5cd9395d3303",
       "version_major": 2,
       "version_minor": 0
      },
      "text/plain": [
       "model.safetensors:   0%|          | 0.00/2.35G [00:00<?, ?B/s]"
      ]
     },
     "metadata": {},
     "output_type": "display_data"
    },
    {
     "data": {
      "application/vnd.jupyter.widget-view+json": {
       "model_id": "ac4e1757a2214d6ab2b243113454dba7",
       "version_major": 2,
       "version_minor": 0
      },
      "text/plain": [
       "generation_config.json:   0%|          | 0.00/234 [00:00<?, ?B/s]"
      ]
     },
     "metadata": {},
     "output_type": "display_data"
    },
    {
     "data": {
      "application/vnd.jupyter.widget-view+json": {
       "model_id": "dd25dc57c22447498af239210491cb0a",
       "version_major": 2,
       "version_minor": 0
      },
      "text/plain": [
       "tokenizer_config.json:   0%|          | 0.00/54.7k [00:00<?, ?B/s]"
      ]
     },
     "metadata": {},
     "output_type": "display_data"
    },
    {
     "data": {
      "application/vnd.jupyter.widget-view+json": {
       "model_id": "f93d604f3680447b9b794d8e1f4f0610",
       "version_major": 2,
       "version_minor": 0
      },
      "text/plain": [
       "tokenizer.json:   0%|          | 0.00/17.2M [00:00<?, ?B/s]"
      ]
     },
     "metadata": {},
     "output_type": "display_data"
    },
    {
     "data": {
      "application/vnd.jupyter.widget-view+json": {
       "model_id": "929297aaeae54343b62461537da52c1b",
       "version_major": 2,
       "version_minor": 0
      },
      "text/plain": [
       "special_tokens_map.json:   0%|          | 0.00/454 [00:00<?, ?B/s]"
      ]
     },
     "metadata": {},
     "output_type": "display_data"
    }
   ],
   "source": [
    "from unsloth import FastLanguageModel\n",
    "import torch\n",
    "\n",
    "max_seq_length = 1024\n",
    "dtype = None\n",
    "load_in_4bit = True\n",
    "\n",
    "model, tokenizer = FastLanguageModel.from_pretrained(\n",
    "    model_name = \"meta-llama/Llama-3.2-3B-Instruct\", \n",
    "    max_seq_length = max_seq_length,\n",
    "    dtype = dtype,\n",
    "    load_in_4bit = load_in_4bit,\n",
    ")"
   ]
  },
  {
   "cell_type": "code",
   "execution_count": 2,
   "metadata": {},
   "outputs": [
    {
     "name": "stderr",
     "output_type": "stream",
     "text": [
      "Unsloth 2025.3.9 patched 28 layers with 28 QKV layers, 28 O layers and 28 MLP layers.\n"
     ]
    }
   ],
   "source": [
    "model = FastLanguageModel.get_peft_model(\n",
    "    model,\n",
    "    r = 16, # Choose any number > 0 ! Suggested 8, 16, 32, 64, 128\n",
    "    target_modules = [\"q_proj\", \"k_proj\", \"v_proj\", \"o_proj\",\n",
    "                      \"gate_proj\", \"up_proj\", \"down_proj\",],\n",
    "    lora_alpha = 16,\n",
    "    lora_dropout = 0, # Supports any, but = 0 is optimized\n",
    "    bias = \"none\",    # Supports any, but = \"none\" is optimized\n",
    "    # [NEW] \"unsloth\" uses 30% less VRAM, fits 2x larger batch sizes!\n",
    "    use_gradient_checkpointing = \"unsloth\", # True or \"unsloth\" for very long context\n",
    "    random_state = 3407,\n",
    "    use_rslora = False,  # We support rank stabilized LoRA\n",
    "    loftq_config = None, # And LoftQ\n",
    ")"
   ]
  },
  {
   "cell_type": "code",
   "execution_count": 3,
   "metadata": {},
   "outputs": [],
   "source": [
    "from datasets import load_dataset\n",
    "\n",
    "dataset = load_dataset('jeffmeloy/sonnet3.5_science_conversations')"
   ]
  },
  {
   "cell_type": "code",
   "execution_count": 4,
   "metadata": {},
   "outputs": [
    {
     "data": {
      "text/plain": [
       "DatasetDict({\n",
       "    train: Dataset({\n",
       "        features: ['conversation'],\n",
       "        num_rows: 8835\n",
       "    })\n",
       "})"
      ]
     },
     "execution_count": 4,
     "metadata": {},
     "output_type": "execute_result"
    }
   ],
   "source": [
    "dataset"
   ]
  },
  {
   "cell_type": "code",
   "execution_count": 5,
   "metadata": {},
   "outputs": [],
   "source": [
    "dataset = dataset.rename_column('conversation', 'conversations')"
   ]
  },
  {
   "cell_type": "code",
   "execution_count": 6,
   "metadata": {},
   "outputs": [],
   "source": [
    "# dataset = dataset['train'].train_test_split(test_size=0.1)"
   ]
  },
  {
   "cell_type": "code",
   "execution_count": 7,
   "metadata": {},
   "outputs": [
    {
     "data": {
      "text/plain": [
       "DatasetDict({\n",
       "    train: Dataset({\n",
       "        features: ['conversations'],\n",
       "        num_rows: 8835\n",
       "    })\n",
       "})"
      ]
     },
     "execution_count": 7,
     "metadata": {},
     "output_type": "execute_result"
    }
   ],
   "source": [
    "dataset"
   ]
  },
  {
   "cell_type": "code",
   "execution_count": 8,
   "metadata": {},
   "outputs": [
    {
     "data": {
      "text/plain": [
       "{'conversations': [{'from': 'system',\n",
       "   'value': 'You are an expert molecular biologist specializing in DNA replication mechanisms. Provide detailed, accurate information on DNA replication fidelity and proofreading processes. Use clear explanations suitable for an interactive textbook, incorporating technical terms and concepts while maintaining accessibility for biology students. Offer specific examples, numerical data, and comparisons to illustrate key points.'},\n",
       "  {'from': 'human',\n",
       "   'value': 'What is DNA replication fidelity, and why is it important?'},\n",
       "  {'from': 'gpt',\n",
       "   'value': 'DNA replication fidelity refers to the accuracy with which genetic information is copied during cell division. It is crucial for maintaining genome integrity and preventing mutations that could lead to genetic disorders or cancer. The error rate in DNA replication is remarkably low, approximately 1 in 10^9 to 10^10 nucleotides. This high fidelity is achieved through three main mechanisms: base-pairing specificity, polymerase proofreading, and post-replication mismatch repair. These processes work in concert to ensure that the genetic code is faithfully transmitted from one generation of cells to the next.'},\n",
       "  {'from': 'human',\n",
       "   'value': 'Can you explain the role of DNA polymerase in maintaining replication fidelity?'},\n",
       "  {'from': 'gpt',\n",
       "   'value': \"DNA polymerase plays a central role in maintaining replication fidelity through two key features:\\n\\n1. Base selection: DNA polymerase has a stringent active site that preferentially incorporates correct nucleotides based on Watson-Crick base pairing. This selectivity reduces error rates to approximately 1 in 10^4 to 10^5.\\n\\n2. Proofreading activity: Many DNA polymerases, particularly those involved in genomic replication (e.g., Pol Îµ and Pol Î´ in eukaryotes), possess 3'-5' exonuclease activity. This allows the enzyme to detect and remove incorrectly incorporated nucleotides immediately after insertion. The polymerase can then attempt to insert the correct nucleotide. Proofreading further reduces the error rate by a factor of 100-1000.\\n\\nThe combination of accurate base selection and proofreading results in an overall error rate of about 1 in 10^7, which is further improved by post-replication repair mechanisms.\"},\n",
       "  {'from': 'human',\n",
       "   'value': 'How does the structure of DNA contribute to replication fidelity?'},\n",
       "  {'from': 'gpt',\n",
       "   'value': \"The structure of DNA significantly contributes to replication fidelity in several ways:\\n\\n1. Complementary base pairing: The specific hydrogen bonding between adenine (A) and thymine (T), and between guanine (G) and cytosine (C), provides a template for accurate replication. This complementarity ensures that the correct nucleotides are incorporated during DNA synthesis.\\n\\n2. Double helix stability: The double-helical structure of DNA, stabilized by base stacking and hydrogen bonding, helps maintain the integrity of genetic information. This stability reduces the likelihood of spontaneous mutations.\\n\\n3. Minor groove interactions: The unique chemical signatures in the minor groove of DNA allow polymerases to 'proofread' the newly synthesized strand without melting the double helix. This contributes to the ability of polymerases to detect and correct errors.\\n\\n4. Backbone flexibility: The sugar-phosphate backbone of DNA provides flexibility, allowing for conformational changes necessary for polymerase function and error correction.\\n\\n5. Nucleotide discrimination: The structural differences between ribonucleotides and deoxyribonucleotides allow DNA polymerases to selectively incorporate dNTPs, preventing the mistaken inclusion of RNA bases in DNA.\\n\\nThese structural features collectively enhance the fidelity of DNA replication by providing a stable yet dynamic template for accurate nucleotide incorporation and error detection.\"},\n",
       "  {'from': 'human',\n",
       "   'value': 'What are some consequences of errors in DNA replication that escape proofreading mechanisms?'},\n",
       "  {'from': 'gpt',\n",
       "   'value': 'Errors in DNA replication that escape proofreading mechanisms can have various consequences, depending on the nature and location of the error:\\n\\n1. Point mutations: Single nucleotide changes can lead to:\\n   - Silent mutations: No change in amino acid sequence\\n   - Missense mutations: Altered amino acid in the protein product\\n   - Nonsense mutations: Premature stop codon, resulting in truncated proteins\\n\\n2. Frameshift mutations: Insertions or deletions that alter the reading frame, often resulting in non-functional proteins\\n\\n3. Genetic disorders: Mutations in critical genes can cause hereditary diseases (e.g., sickle cell anemia, cystic fibrosis)\\n\\n4. Cancer: Accumulation of mutations in proto-oncogenes or tumor suppressor genes can lead to uncontrolled cell growth\\n\\n5. Evolutionary changes: Some mutations may confer advantageous traits, driving evolution\\n\\n6. Cellular dysfunction: Errors affecting genes involved in essential cellular processes can impair cell function or viability\\n\\n7. Chromosomal abnormalities: Large-scale replication errors can lead to chromosomal rearrangements or aneuploidy\\n\\n8. Aging: Accumulation of DNA damage and mutations over time contributes to the aging process\\n\\nThe impact of replication errors underscores the importance of multiple layers of fidelity mechanisms, including post-replication repair systems like mismatch repair, which can correct errors that escape initial proofreading.'},\n",
       "  {'from': 'human',\n",
       "   'value': 'How do different organisms maintain DNA replication fidelity, and are there any notable variations across species?'},\n",
       "  {'from': 'gpt',\n",
       "   'value': 'DNA replication fidelity mechanisms are largely conserved across species, but there are notable variations and adaptations:\\n\\n1. Prokaryotes:\\n   - Rely heavily on DNA Polymerase III for replication\\n   - Utilize methyl-directed mismatch repair system\\n   - Error rate: ~1 in 10^9 to 10^10\\n\\n2. Eukaryotes:\\n   - Use multiple polymerases (e.g., Pol Îµ, Pol Î´) with increased complexity\\n   - Employ a more sophisticated mismatch repair system\\n   - Error rate: Similar to prokaryotes, ~1 in 10^9 to 10^10\\n\\n3. Archaea:\\n   - Possess unique DNA polymerases with high fidelity, similar to eukaryotic polymerases\\n   - Some hyperthermophilic archaea have enhanced proofreading mechanisms to maintain DNA integrity at high temperatures\\n\\n4. Viruses:\\n   - Often have higher mutation rates, especially RNA viruses\\n   - Some DNA viruses utilize host cell machinery for high-fidelity replication\\n   - Others, like HIV, have error-prone replication as an evolutionary strategy\\n\\n5. Extremophiles:\\n   - Organisms living in extreme conditions often have additional DNA repair mechanisms\\n   - For example, Deinococcus radiodurans has multiple genome copies and efficient DNA repair systems to withstand high radiation\\n\\n6. Mammals:\\n   - Have additional specialized polymerases for DNA repair and translesion synthesis\\n   - Possess more complex regulation of DNA repair pathways\\n\\n7. Plants:\\n   - Often have redundant genomes (polyploidy) which can buffer against harmful mutations\\n   - Possess unique DNA repair mechanisms to deal with UV damage\\n\\nNotable variations:\\n- Some organisms, like bdelloid rotifers, lack conventional meiosis and have developed alternative mechanisms to maintain genetic diversity and repair DNA\\n- Certain bacteria can increase mutation rates under stress (hypermutation) as an adaptive strategy\\n- Some eukaryotes, like ciliates, undergo extensive DNA rearrangements during development, requiring specialized fidelity mechanisms\\n\\nThese variations highlight how organisms have adapted their DNA replication fidelity mechanisms to their specific environmental niches and life strategies.'}]}"
      ]
     },
     "execution_count": 8,
     "metadata": {},
     "output_type": "execute_result"
    }
   ],
   "source": [
    "dataset['train'][10]"
   ]
  },
  {
   "cell_type": "code",
   "execution_count": 9,
   "metadata": {},
   "outputs": [],
   "source": [
    "# Convert ShareGPT format to HF format\n",
    "\n",
    "from unsloth import standardize_sharegpt\n",
    "\n",
    "train_dataset = standardize_sharegpt(dataset['train'])\n",
    "# test_dataset = standardize_sharegpt(dataset['test'])"
   ]
  },
  {
   "cell_type": "code",
   "execution_count": 10,
   "metadata": {},
   "outputs": [],
   "source": [
    "# Apply Llama-3.1 chat template\n",
    "\n",
    "from unsloth.chat_templates import get_chat_template\n",
    "\n",
    "\n",
    "tokenizer = get_chat_template(\n",
    "    tokenizer,\n",
    "    chat_template = \"llama-3.1\",\n",
    ")\n",
    "\n",
    "def formatting_prompts_func(examples):\n",
    "    convos = examples[\"conversations\"]\n",
    "    texts = [tokenizer.apply_chat_template(convo, tokenize = False, add_generation_prompt = False) for convo in convos]\n",
    "    return { \"text\" : texts, }"
   ]
  },
  {
   "cell_type": "code",
   "execution_count": 11,
   "metadata": {},
   "outputs": [],
   "source": [
    "# Map the datasets with chat template\n",
    "\n",
    "train_dataset = train_dataset.map(formatting_prompts_func, batched=True)\n",
    "# test_dataset = test_dataset.map(formatting_prompts_func, batched=True)"
   ]
  },
  {
   "cell_type": "code",
   "execution_count": 12,
   "metadata": {},
   "outputs": [
    {
     "data": {
      "text/plain": [
       "[{'content': 'You are an expert biochemist specializing in enzyme kinetics and metabolic pathways. Provide detailed, accurate information on enzyme kinetics, metabolic pathways, and their interactions. Use technical terminology appropriately and explain complex concepts clearly. Offer practical examples and applications when relevant. Be prepared to discuss experimental techniques, mathematical models, and recent research developments in the field.',\n",
       "  'role': 'system'},\n",
       " {'content': 'What is the Michaelis-Menten equation and how does it relate to enzyme kinetics?',\n",
       "  'role': 'user'},\n",
       " {'content': \"The Michaelis-Menten equation is a fundamental model in enzyme kinetics that describes the relationship between substrate concentration and reaction rate. It is expressed as:\\n\\nv = (Vmax * [S]) / (Km + [S])\\n\\nWhere:\\nv = reaction rate\\nVmax = maximum reaction rate\\n[S] = substrate concentration\\nKm = Michaelis constant\\n\\nThis equation relates to enzyme kinetics by providing a quantitative description of how enzyme-catalyzed reactions proceed. It assumes a single substrate binding to the enzyme's active site, forming an enzyme-substrate complex before product formation. The Michaelis constant (Km) represents the substrate concentration at which the reaction rate is half of Vmax, indicating the enzyme's affinity for the substrate. Lower Km values suggest higher affinity.\",\n",
       "  'role': 'assistant'},\n",
       " {'content': 'How can we determine Vmax and Km experimentally?',\n",
       "  'role': 'user'},\n",
       " {'content': 'Vmax and Km can be determined experimentally using several methods:\\n\\n1. Lineweaver-Burk plot: A double reciprocal plot of 1/v vs. 1/[S]. The y-intercept is 1/Vmax, and the x-intercept is -1/Km.\\n\\n2. Eadie-Hofstee plot: A plot of v vs. v/[S]. The y-intercept is Vmax, and the negative slope is Km.\\n\\n3. Hanes-Woolf plot: A plot of [S]/v vs. [S]. The y-intercept is Km/Vmax, and the slope is 1/Vmax.\\n\\n4. Non-linear regression: Fitting experimental data directly to the Michaelis-Menten equation using computer software.\\n\\n5. Progress curve analysis: Monitoring product formation over time at different substrate concentrations.\\n\\nThese methods involve measuring reaction rates at various substrate concentrations. Non-linear regression is often preferred as it avoids the distortion of experimental errors inherent in linearization methods.',\n",
       "  'role': 'assistant'},\n",
       " {'content': 'What are allosteric enzymes and how do they differ from Michaelis-Menten kinetics?',\n",
       "  'role': 'user'},\n",
       " {'content': 'Allosteric enzymes are proteins whose activity is regulated by the binding of an effector molecule at a site other than the active site. They differ from enzymes following Michaelis-Menten kinetics in several ways:\\n\\n1. Binding sites: Allosteric enzymes have separate binding sites for substrates and effectors, while Michaelis-Menten enzymes have only one binding site for the substrate.\\n\\n2. Kinetic behavior: Allosteric enzymes often exhibit sigmoidal velocity curves in response to substrate concentration, unlike the hyperbolic curves of Michaelis-Menten kinetics.\\n\\n3. Cooperativity: Allosteric enzymes can display positive or negative cooperativity, where binding of a substrate or effector influences the binding of subsequent molecules.\\n\\n4. Regulatory mechanisms: Allosteric enzymes are subject to complex regulation by activators and inhibitors, allowing for fine-tuning of metabolic pathways.\\n\\n5. Mathematical model: The Hill equation is often used to describe allosteric enzyme kinetics, replacing the Michaelis-Menten equation.\\n\\n6. Subunit structure: Many allosteric enzymes have multiple subunits, allowing for complex interactions and regulatory mechanisms.\\n\\nThese differences make allosteric enzymes crucial for metabolic regulation, allowing for rapid responses to cellular needs and environmental changes.',\n",
       "  'role': 'assistant'},\n",
       " {'content': 'Can you explain the concept of enzyme inhibition and its types in metabolic pathways?',\n",
       "  'role': 'user'},\n",
       " {'content': 'Enzyme inhibition is a process where molecules interfere with enzyme activity, reducing the rate of enzyme-catalyzed reactions. In metabolic pathways, inhibition is a crucial regulatory mechanism. There are several types of enzyme inhibition:\\n\\n1. Competitive inhibition:\\n- Inhibitor competes with the substrate for the active site\\n- Can be overcome by increasing substrate concentration\\n- Affects Km but not Vmax\\n\\n2. Non-competitive inhibition:\\n- Inhibitor binds to a site other than the active site\\n- Cannot be overcome by increasing substrate concentration\\n- Decreases Vmax but does not affect Km\\n\\n3. Uncompetitive inhibition:\\n- Inhibitor binds only to the enzyme-substrate complex\\n- Decreases both Vmax and Km\\n\\n4. Mixed inhibition:\\n- Inhibitor can bind to both free enzyme and enzyme-substrate complex\\n- Affects both Vmax and Km\\n\\n5. Allosteric inhibition:\\n- Inhibitor binds to an allosteric site, causing conformational changes\\n- Can exhibit cooperativity and complex kinetics\\n\\n6. Irreversible inhibition:\\n- Inhibitor forms a covalent bond with the enzyme, permanently inactivating it\\n\\nIn metabolic pathways, these inhibition types play crucial roles in feedback regulation, metabolic flux control, and cellular homeostasis. For example, allosteric inhibition of phosphofructokinase by ATP helps regulate glycolysis, while competitive inhibition of succinate dehydrogenase by malonate can disrupt the citric acid cycle.',\n",
       "  'role': 'assistant'},\n",
       " {'content': 'How do multi-enzyme complexes affect metabolic efficiency?',\n",
       "  'role': 'user'},\n",
       " {'content': 'Multi-enzyme complexes significantly enhance metabolic efficiency through several mechanisms:\\n\\n1. Substrate channeling: Intermediates are directly transferred between active sites of consecutive enzymes, reducing diffusion time and preventing loss of intermediates to competing reactions.\\n\\n2. Increased local substrate concentration: By keeping enzymes in close proximity, the effective concentration of substrates is increased, enhancing reaction rates.\\n\\n3. Protection of unstable intermediates: Labile intermediates are shielded from the cellular environment, preventing their degradation or unwanted side reactions.\\n\\n4. Coordinated regulation: The entire complex can be regulated as a unit, allowing for more precise control of metabolic flux.\\n\\n5. Reduced transit time: The overall time for a series of reactions is decreased, increasing pathway throughput.\\n\\n6. Compartmentalization: Complexes can create microenvironments with optimal conditions for specific reactions.\\n\\n7. Enhanced thermodynamic efficiency: Unfavorable reactions can be coupled with favorable ones within the complex.\\n\\n8. Allosteric regulation: Conformational changes in one enzyme can affect others in the complex, allowing for sophisticated regulatory mechanisms.\\n\\nExamples of multi-enzyme complexes include the pyruvate dehydrogenase complex in the link between glycolysis and the citric acid cycle, and the fatty acid synthase complex in lipid biosynthesis. These complexes significantly contribute to the overall efficiency and regulation of metabolic pathways.',\n",
       "  'role': 'assistant'}]"
      ]
     },
     "execution_count": 12,
     "metadata": {},
     "output_type": "execute_result"
    }
   ],
   "source": [
    "train_dataset['conversations'][0]"
   ]
  },
  {
   "cell_type": "code",
   "execution_count": 13,
   "metadata": {},
   "outputs": [
    {
     "name": "stdout",
     "output_type": "stream",
     "text": [
      "<|begin_of_text|><|start_header_id|>system<|end_header_id|>\n",
      "\n",
      "Cutting Knowledge Date: December 2023\n",
      "Today Date: 26 July 2024\n",
      "\n",
      "You are an expert biochemist specializing in enzyme kinetics and metabolic pathways. Provide detailed, accurate information on enzyme kinetics, metabolic pathways, and their interactions. Use technical terminology appropriately and explain complex concepts clearly. Offer practical examples and applications when relevant. Be prepared to discuss experimental techniques, mathematical models, and recent research developments in the field.<|eot_id|><|start_header_id|>user<|end_header_id|>\n",
      "\n",
      "What is the Michaelis-Menten equation and how does it relate to enzyme kinetics?<|eot_id|><|start_header_id|>assistant<|end_header_id|>\n",
      "\n",
      "The Michaelis-Menten equation is a fundamental model in enzyme kinetics that describes the relationship between substrate concentration and reaction rate. It is expressed as:\n",
      "\n",
      "v = (Vmax * [S]) / (Km + [S])\n",
      "\n",
      "Where:\n",
      "v = reaction rate\n",
      "Vmax = maximum reaction rate\n",
      "[S] = substrate concentration\n",
      "Km = Michaelis constant\n",
      "\n",
      "This equation relates to enzyme kinetics by providing a quantitative description of how enzyme-catalyzed reactions proceed. It assumes a single substrate binding to the enzyme's active site, forming an enzyme-substrate complex before product formation. The Michaelis constant (Km) represents the substrate concentration at which the reaction rate is half of Vmax, indicating the enzyme's affinity for the substrate. Lower Km values suggest higher affinity.<|eot_id|><|start_header_id|>user<|end_header_id|>\n",
      "\n",
      "How can we determine Vmax and Km experimentally?<|eot_id|><|start_header_id|>assistant<|end_header_id|>\n",
      "\n",
      "Vmax and Km can be determined experimentally using several methods:\n",
      "\n",
      "1. Lineweaver-Burk plot: A double reciprocal plot of 1/v vs. 1/[S]. The y-intercept is 1/Vmax, and the x-intercept is -1/Km.\n",
      "\n",
      "2. Eadie-Hofstee plot: A plot of v vs. v/[S]. The y-intercept is Vmax, and the negative slope is Km.\n",
      "\n",
      "3. Hanes-Woolf plot: A plot of [S]/v vs. [S]. The y-intercept is Km/Vmax, and the slope is 1/Vmax.\n",
      "\n",
      "4. Non-linear regression: Fitting experimental data directly to the Michaelis-Menten equation using computer software.\n",
      "\n",
      "5. Progress curve analysis: Monitoring product formation over time at different substrate concentrations.\n",
      "\n",
      "These methods involve measuring reaction rates at various substrate concentrations. Non-linear regression is often preferred as it avoids the distortion of experimental errors inherent in linearization methods.<|eot_id|><|start_header_id|>user<|end_header_id|>\n",
      "\n",
      "What are allosteric enzymes and how do they differ from Michaelis-Menten kinetics?<|eot_id|><|start_header_id|>assistant<|end_header_id|>\n",
      "\n",
      "Allosteric enzymes are proteins whose activity is regulated by the binding of an effector molecule at a site other than the active site. They differ from enzymes following Michaelis-Menten kinetics in several ways:\n",
      "\n",
      "1. Binding sites: Allosteric enzymes have separate binding sites for substrates and effectors, while Michaelis-Menten enzymes have only one binding site for the substrate.\n",
      "\n",
      "2. Kinetic behavior: Allosteric enzymes often exhibit sigmoidal velocity curves in response to substrate concentration, unlike the hyperbolic curves of Michaelis-Menten kinetics.\n",
      "\n",
      "3. Cooperativity: Allosteric enzymes can display positive or negative cooperativity, where binding of a substrate or effector influences the binding of subsequent molecules.\n",
      "\n",
      "4. Regulatory mechanisms: Allosteric enzymes are subject to complex regulation by activators and inhibitors, allowing for fine-tuning of metabolic pathways.\n",
      "\n",
      "5. Mathematical model: The Hill equation is often used to describe allosteric enzyme kinetics, replacing the Michaelis-Menten equation.\n",
      "\n",
      "6. Subunit structure: Many allosteric enzymes have multiple subunits, allowing for complex interactions and regulatory mechanisms.\n",
      "\n",
      "These differences make allosteric enzymes crucial for metabolic regulation, allowing for rapid responses to cellular needs and environmental changes.<|eot_id|><|start_header_id|>user<|end_header_id|>\n",
      "\n",
      "Can you explain the concept of enzyme inhibition and its types in metabolic pathways?<|eot_id|><|start_header_id|>assistant<|end_header_id|>\n",
      "\n",
      "Enzyme inhibition is a process where molecules interfere with enzyme activity, reducing the rate of enzyme-catalyzed reactions. In metabolic pathways, inhibition is a crucial regulatory mechanism. There are several types of enzyme inhibition:\n",
      "\n",
      "1. Competitive inhibition:\n",
      "- Inhibitor competes with the substrate for the active site\n",
      "- Can be overcome by increasing substrate concentration\n",
      "- Affects Km but not Vmax\n",
      "\n",
      "2. Non-competitive inhibition:\n",
      "- Inhibitor binds to a site other than the active site\n",
      "- Cannot be overcome by increasing substrate concentration\n",
      "- Decreases Vmax but does not affect Km\n",
      "\n",
      "3. Uncompetitive inhibition:\n",
      "- Inhibitor binds only to the enzyme-substrate complex\n",
      "- Decreases both Vmax and Km\n",
      "\n",
      "4. Mixed inhibition:\n",
      "- Inhibitor can bind to both free enzyme and enzyme-substrate complex\n",
      "- Affects both Vmax and Km\n",
      "\n",
      "5. Allosteric inhibition:\n",
      "- Inhibitor binds to an allosteric site, causing conformational changes\n",
      "- Can exhibit cooperativity and complex kinetics\n",
      "\n",
      "6. Irreversible inhibition:\n",
      "- Inhibitor forms a covalent bond with the enzyme, permanently inactivating it\n",
      "\n",
      "In metabolic pathways, these inhibition types play crucial roles in feedback regulation, metabolic flux control, and cellular homeostasis. For example, allosteric inhibition of phosphofructokinase by ATP helps regulate glycolysis, while competitive inhibition of succinate dehydrogenase by malonate can disrupt the citric acid cycle.<|eot_id|><|start_header_id|>user<|end_header_id|>\n",
      "\n",
      "How do multi-enzyme complexes affect metabolic efficiency?<|eot_id|><|start_header_id|>assistant<|end_header_id|>\n",
      "\n",
      "Multi-enzyme complexes significantly enhance metabolic efficiency through several mechanisms:\n",
      "\n",
      "1. Substrate channeling: Intermediates are directly transferred between active sites of consecutive enzymes, reducing diffusion time and preventing loss of intermediates to competing reactions.\n",
      "\n",
      "2. Increased local substrate concentration: By keeping enzymes in close proximity, the effective concentration of substrates is increased, enhancing reaction rates.\n",
      "\n",
      "3. Protection of unstable intermediates: Labile intermediates are shielded from the cellular environment, preventing their degradation or unwanted side reactions.\n",
      "\n",
      "4. Coordinated regulation: The entire complex can be regulated as a unit, allowing for more precise control of metabolic flux.\n",
      "\n",
      "5. Reduced transit time: The overall time for a series of reactions is decreased, increasing pathway throughput.\n",
      "\n",
      "6. Compartmentalization: Complexes can create microenvironments with optimal conditions for specific reactions.\n",
      "\n",
      "7. Enhanced thermodynamic efficiency: Unfavorable reactions can be coupled with favorable ones within the complex.\n",
      "\n",
      "8. Allosteric regulation: Conformational changes in one enzyme can affect others in the complex, allowing for sophisticated regulatory mechanisms.\n",
      "\n",
      "Examples of multi-enzyme complexes include the pyruvate dehydrogenase complex in the link between glycolysis and the citric acid cycle, and the fatty acid synthase complex in lipid biosynthesis. These complexes significantly contribute to the overall efficiency and regulation of metabolic pathways.<|eot_id|>\n"
     ]
    }
   ],
   "source": [
    "print(train_dataset[0]['text'])"
   ]
  },
  {
   "cell_type": "code",
   "execution_count": 14,
   "metadata": {},
   "outputs": [
    {
     "name": "stderr",
     "output_type": "stream",
     "text": [
      "\u001b[34m\u001b[1mwandb\u001b[0m: Using wandb-core as the SDK backend.  Please refer to https://wandb.me/wandb-core for more information.\n",
      "\u001b[34m\u001b[1mwandb\u001b[0m: Currently logged in as: \u001b[33msenthilkumarn\u001b[0m (\u001b[33mnsk\u001b[0m) to \u001b[32mhttps://api.wandb.ai\u001b[0m. Use \u001b[1m`wandb login --relogin`\u001b[0m to force relogin\n"
     ]
    },
    {
     "data": {
      "text/html": [
       "creating run (0.4s)"
      ],
      "text/plain": [
       "<IPython.core.display.HTML object>"
      ]
     },
     "metadata": {},
     "output_type": "display_data"
    },
    {
     "data": {
      "text/html": [
       "Tracking run with wandb version 0.19.8"
      ],
      "text/plain": [
       "<IPython.core.display.HTML object>"
      ]
     },
     "metadata": {},
     "output_type": "display_data"
    },
    {
     "data": {
      "text/html": [
       "Run data is saved locally in <code>/home/senthilkumar/ai_ml/projects/stem-tutor/notebooks/wandb/run-20250310_183018-irzu939g</code>"
      ],
      "text/plain": [
       "<IPython.core.display.HTML object>"
      ]
     },
     "metadata": {},
     "output_type": "display_data"
    },
    {
     "data": {
      "text/html": [
       "Syncing run <strong><a href='https://wandb.ai/senthilkumarn/llama-ft/runs/irzu939g' target=\"_blank\">stilted-fog-37</a></strong> to <a href='https://wandb.ai/senthilkumarn/llama-ft' target=\"_blank\">Weights & Biases</a> (<a href='https://wandb.me/developer-guide' target=\"_blank\">docs</a>)<br>"
      ],
      "text/plain": [
       "<IPython.core.display.HTML object>"
      ]
     },
     "metadata": {},
     "output_type": "display_data"
    },
    {
     "data": {
      "text/html": [
       " View project at <a href='https://wandb.ai/senthilkumarn/llama-ft' target=\"_blank\">https://wandb.ai/senthilkumarn/llama-ft</a>"
      ],
      "text/plain": [
       "<IPython.core.display.HTML object>"
      ]
     },
     "metadata": {},
     "output_type": "display_data"
    },
    {
     "data": {
      "text/html": [
       " View run at <a href='https://wandb.ai/senthilkumarn/llama-ft/runs/irzu939g' target=\"_blank\">https://wandb.ai/senthilkumarn/llama-ft/runs/irzu939g</a>"
      ],
      "text/plain": [
       "<IPython.core.display.HTML object>"
      ]
     },
     "metadata": {},
     "output_type": "display_data"
    },
    {
     "name": "stdout",
     "output_type": "stream",
     "text": [
      "Unsloth: We found double BOS tokens - we shall remove one automatically.\n"
     ]
    },
    {
     "data": {
      "application/vnd.jupyter.widget-view+json": {
       "model_id": "1ad5d0b95cb44198b123016681f88351",
       "version_major": 2,
       "version_minor": 0
      },
      "text/plain": [
       "Tokenizing to [\"text\"] (num_proc=2):   0%|          | 0/8835 [00:00<?, ? examples/s]"
      ]
     },
     "metadata": {},
     "output_type": "display_data"
    },
    {
     "name": "stderr",
     "output_type": "stream",
     "text": [
      "max_steps is given, it will override any value given in num_train_epochs\n"
     ]
    }
   ],
   "source": [
    "import os \n",
    "import dotenv\n",
    "import wandb\n",
    "\n",
    "from trl import SFTTrainer\n",
    "from transformers import TrainingArguments,  DataCollatorForSeq2Seq\n",
    "from unsloth import is_bfloat16_supported\n",
    "\n",
    "dotenv.load_dotenv()\n",
    "wandb.init(entity=os.getenv('wandb_username'), project=os.getenv('wandb_project_name'))\n",
    "\n",
    "trainer = SFTTrainer(\n",
    "    model = model,\n",
    "    tokenizer = tokenizer,\n",
    "    train_dataset = train_dataset,\n",
    "    # eval_dataset=test_dataset,  # Eval takes more VRAM, if one has >4GB VRAM can do evaluation alongside with Training\n",
    "    dataset_text_field = \"text\",\n",
    "    max_seq_length = max_seq_length,\n",
    "    data_collator = DataCollatorForSeq2Seq(tokenizer = tokenizer),\n",
    "    dataset_num_proc = 2,\n",
    "    packing = False, # Can make training 5x faster for short sequences.\n",
    "    args = TrainingArguments(\n",
    "        per_device_train_batch_size = 2,\n",
    "        # per_device_eval_batch_size = 1,\n",
    "        gradient_accumulation_steps = 2,\n",
    "        # eval_accumulation_steps= 4,\n",
    "        warmup_steps = 5,\n",
    "        # eval_steps= 10,\n",
    "        # eval_strategy = \"steps\",\n",
    "        # num_train_epochs = 1, # Set this for 1 full training run.\n",
    "        max_steps = 120,\n",
    "        learning_rate = 2e-4,\n",
    "        fp16 = not is_bfloat16_supported(),\n",
    "        bf16 = is_bfloat16_supported(),\n",
    "        logging_steps = 1,\n",
    "        logging_strategy='steps',\n",
    "        optim = \"adamw_8bit\",\n",
    "        weight_decay = 0.01,\n",
    "        lr_scheduler_type = \"linear\",\n",
    "        seed = 3407,\n",
    "        output_dir = \"scillama-3.2-3b_outputs\",\n",
    "        report_to = \"wandb\",\n",
    "        save_steps=100,\n",
    "    ),\n",
    ")"
   ]
  },
  {
   "cell_type": "code",
   "execution_count": 15,
   "metadata": {},
   "outputs": [
    {
     "data": {
      "application/vnd.jupyter.widget-view+json": {
       "model_id": "e75e37f735f848db8cd541c917681269",
       "version_major": 2,
       "version_minor": 0
      },
      "text/plain": [
       "Map (num_proc=12):   0%|          | 0/8835 [00:00<?, ? examples/s]"
      ]
     },
     "metadata": {},
     "output_type": "display_data"
    }
   ],
   "source": [
    "from unsloth.chat_templates import train_on_responses_only\n",
    "trainer = train_on_responses_only(\n",
    "    trainer,\n",
    "    instruction_part = \"<|start_header_id|>user<|end_header_id|>\\n\\n\",\n",
    "    response_part = \"<|start_header_id|>assistant<|end_header_id|>\\n\\n\",\n",
    ")"
   ]
  },
  {
   "cell_type": "code",
   "execution_count": 16,
   "metadata": {},
   "outputs": [
    {
     "data": {
      "text/plain": [
       "\"<|begin_of_text|><|start_header_id|>system<|end_header_id|>\\n\\nCutting Knowledge Date: December 2023\\nToday Date: 26 July 2024\\n\\nYou are an expert biochemist specializing in enzyme kinetics and metabolic pathways. Provide detailed, accurate information on enzyme kinetics, metabolic pathways, and their interactions. Use technical terminology appropriately and explain complex concepts clearly. Offer practical examples and applications when relevant. Be prepared to discuss experimental techniques, mathematical models, and recent research developments in the field.<|eot_id|><|start_header_id|>user<|end_header_id|>\\n\\nWhat is the Michaelis-Menten equation and how does it relate to enzyme kinetics?<|eot_id|><|start_header_id|>assistant<|end_header_id|>\\n\\nThe Michaelis-Menten equation is a fundamental model in enzyme kinetics that describes the relationship between substrate concentration and reaction rate. It is expressed as:\\n\\nv = (Vmax * [S]) / (Km + [S])\\n\\nWhere:\\nv = reaction rate\\nVmax = maximum reaction rate\\n[S] = substrate concentration\\nKm = Michaelis constant\\n\\nThis equation relates to enzyme kinetics by providing a quantitative description of how enzyme-catalyzed reactions proceed. It assumes a single substrate binding to the enzyme's active site, forming an enzyme-substrate complex before product formation. The Michaelis constant (Km) represents the substrate concentration at which the reaction rate is half of Vmax, indicating the enzyme's affinity for the substrate. Lower Km values suggest higher affinity.<|eot_id|><|start_header_id|>user<|end_header_id|>\\n\\nHow can we determine Vmax and Km experimentally?<|eot_id|><|start_header_id|>assistant<|end_header_id|>\\n\\nVmax and Km can be determined experimentally using several methods:\\n\\n1. Lineweaver-Burk plot: A double reciprocal plot of 1/v vs. 1/[S]. The y-intercept is 1/Vmax, and the x-intercept is -1/Km.\\n\\n2. Eadie-Hofstee plot: A plot of v vs. v/[S]. The y-intercept is Vmax, and the negative slope is Km.\\n\\n3. Hanes-Woolf plot: A plot of [S]/v vs. [S]. The y-intercept is Km/Vmax, and the slope is 1/Vmax.\\n\\n4. Non-linear regression: Fitting experimental data directly to the Michaelis-Menten equation using computer software.\\n\\n5. Progress curve analysis: Monitoring product formation over time at different substrate concentrations.\\n\\nThese methods involve measuring reaction rates at various substrate concentrations. Non-linear regression is often preferred as it avoids the distortion of experimental errors inherent in linearization methods.<|eot_id|><|start_header_id|>user<|end_header_id|>\\n\\nWhat are allosteric enzymes and how do they differ from Michaelis-Menten kinetics?<|eot_id|><|start_header_id|>assistant<|end_header_id|>\\n\\nAllosteric enzymes are proteins whose activity is regulated by the binding of an effector molecule at a site other than the active site. They differ from enzymes following Michaelis-Menten kinetics in several ways:\\n\\n1. Binding sites: Allosteric enzymes have separate binding sites for substrates and effectors, while Michaelis-Menten enzymes have only one binding site for the substrate.\\n\\n2. Kinetic behavior: Allosteric enzymes often exhibit sigmoidal velocity curves in response to substrate concentration, unlike the hyperbolic curves of Michaelis-Menten kinetics.\\n\\n3. Cooperativity: Allosteric enzymes can display positive or negative cooperativity, where binding of a substrate or effector influences the binding of subsequent molecules.\\n\\n4. Regulatory mechanisms: Allosteric enzymes are subject to complex regulation by activators and inhibitors, allowing for fine-tuning of metabolic pathways.\\n\\n5. Mathematical model: The Hill equation is often used to describe allosteric enzyme kinetics, replacing the Michaelis-Menten equation.\\n\\n6. Subunit structure: Many allosteric enzymes have multiple subunits, allowing for complex interactions and regulatory mechanisms.\\n\\nThese differences make allosteric enzymes crucial for metabolic regulation, allowing for rapid responses to cellular needs and environmental changes.<|eot_id|><|start_header_id|>user<|end_header_id|>\\n\\nCan you explain the concept of enzyme inhibition and its types in metabolic pathways?<|eot_id|><|start_header_id|>assistant<|end_header_id|>\\n\\nEnzyme inhibition is a process where molecules interfere with enzyme activity, reducing the rate of enzyme-catalyzed reactions. In metabolic pathways, inhibition is a crucial regulatory mechanism. There are several types of enzyme inhibition:\\n\\n1. Competitive inhibition:\\n- Inhibitor competes with the substrate for the active site\\n- Can be overcome by increasing substrate concentration\\n- Affects Km but not Vmax\\n\\n2. Non-competitive inhibition:\\n- Inhibitor binds to a site other than the active site\\n- Cannot be overcome by increasing substrate concentration\\n- Decreases Vmax but does not affect Km\\n\\n3. Uncompetitive inhibition:\\n- Inhibitor binds only to the enzyme-substrate complex\\n- Decreases both Vmax and Km\\n\\n4. Mixed inhibition:\\n- Inhibitor can bind to both free enzyme and enzyme-substrate complex\\n- Affects both Vmax and Km\\n\\n5. Allosteric inhibition:\\n- Inhibitor binds to an allosteric site, causing conformational changes\\n- Can exhibit cooperativity and complex kinetics\""
      ]
     },
     "execution_count": 16,
     "metadata": {},
     "output_type": "execute_result"
    }
   ],
   "source": [
    "tokenizer.decode(trainer.train_dataset[0][\"input_ids\"])"
   ]
  },
  {
   "cell_type": "code",
   "execution_count": 17,
   "metadata": {},
   "outputs": [
    {
     "data": {
      "text/plain": [
       "\"                                                                                                                      \\n\\nThe Michaelis-Menten equation is a fundamental model in enzyme kinetics that describes the relationship between substrate concentration and reaction rate. It is expressed as:\\n\\nv = (Vmax * [S]) / (Km + [S])\\n\\nWhere:\\nv = reaction rate\\nVmax = maximum reaction rate\\n[S] = substrate concentration\\nKm = Michaelis constant\\n\\nThis equation relates to enzyme kinetics by providing a quantitative description of how enzyme-catalyzed reactions proceed. It assumes a single substrate binding to the enzyme's active site, forming an enzyme-substrate complex before product formation. The Michaelis constant (Km) represents the substrate concentration at which the reaction rate is half of Vmax, indicating the enzyme's affinity for the substrate. Lower Km values suggest higher affinity.<|eot_id|>                   \\n\\nVmax and Km can be determined experimentally using several methods:\\n\\n1. Lineweaver-Burk plot: A double reciprocal plot of 1/v vs. 1/[S]. The y-intercept is 1/Vmax, and the x-intercept is -1/Km.\\n\\n2. Eadie-Hofstee plot: A plot of v vs. v/[S]. The y-intercept is Vmax, and the negative slope is Km.\\n\\n3. Hanes-Woolf plot: A plot of [S]/v vs. [S]. The y-intercept is Km/Vmax, and the slope is 1/Vmax.\\n\\n4. Non-linear regression: Fitting experimental data directly to the Michaelis-Menten equation using computer software.\\n\\n5. Progress curve analysis: Monitoring product formation over time at different substrate concentrations.\\n\\nThese methods involve measuring reaction rates at various substrate concentrations. Non-linear regression is often preferred as it avoids the distortion of experimental errors inherent in linearization methods.<|eot_id|>                           \\n\\nAllosteric enzymes are proteins whose activity is regulated by the binding of an effector molecule at a site other than the active site. They differ from enzymes following Michaelis-Menten kinetics in several ways:\\n\\n1. Binding sites: Allosteric enzymes have separate binding sites for substrates and effectors, while Michaelis-Menten enzymes have only one binding site for the substrate.\\n\\n2. Kinetic behavior: Allosteric enzymes often exhibit sigmoidal velocity curves in response to substrate concentration, unlike the hyperbolic curves of Michaelis-Menten kinetics.\\n\\n3. Cooperativity: Allosteric enzymes can display positive or negative cooperativity, where binding of a substrate or effector influences the binding of subsequent molecules.\\n\\n4. Regulatory mechanisms: Allosteric enzymes are subject to complex regulation by activators and inhibitors, allowing for fine-tuning of metabolic pathways.\\n\\n5. Mathematical model: The Hill equation is often used to describe allosteric enzyme kinetics, replacing the Michaelis-Menten equation.\\n\\n6. Subunit structure: Many allosteric enzymes have multiple subunits, allowing for complex interactions and regulatory mechanisms.\\n\\nThese differences make allosteric enzymes crucial for metabolic regulation, allowing for rapid responses to cellular needs and environmental changes.<|eot_id|>                       \\n\\nEnzyme inhibition is a process where molecules interfere with enzyme activity, reducing the rate of enzyme-catalyzed reactions. In metabolic pathways, inhibition is a crucial regulatory mechanism. There are several types of enzyme inhibition:\\n\\n1. Competitive inhibition:\\n- Inhibitor competes with the substrate for the active site\\n- Can be overcome by increasing substrate concentration\\n- Affects Km but not Vmax\\n\\n2. Non-competitive inhibition:\\n- Inhibitor binds to a site other than the active site\\n- Cannot be overcome by increasing substrate concentration\\n- Decreases Vmax but does not affect Km\\n\\n3. Uncompetitive inhibition:\\n- Inhibitor binds only to the enzyme-substrate complex\\n- Decreases both Vmax and Km\\n\\n4. Mixed inhibition:\\n- Inhibitor can bind to both free enzyme and enzyme-substrate complex\\n- Affects both Vmax and Km\\n\\n5. Allosteric inhibition:\\n- Inhibitor binds to an allosteric site, causing conformational changes\\n- Can exhibit cooperativity and complex kinetics\""
      ]
     },
     "execution_count": 17,
     "metadata": {},
     "output_type": "execute_result"
    }
   ],
   "source": [
    "space = tokenizer(\" \", add_special_tokens = False).input_ids[0]\n",
    "tokenizer.decode([space if x == -100 else x for x in trainer.train_dataset[0][\"labels\"]])"
   ]
  },
  {
   "cell_type": "code",
   "execution_count": 18,
   "metadata": {},
   "outputs": [
    {
     "name": "stdout",
     "output_type": "stream",
     "text": [
      "GPU = NVIDIA GeForce RTX 3050 Laptop GPU. Max memory = 4.0 GB.\n",
      "2.66 GB of memory reserved.\n"
     ]
    }
   ],
   "source": [
    "# Show current memory stats\n",
    "gpu_stats = torch.cuda.get_device_properties(0)\n",
    "start_gpu_memory = round(torch.cuda.max_memory_reserved() / 1024 / 1024 / 1024, 3)\n",
    "max_memory = round(gpu_stats.total_memory / 1024 / 1024 / 1024, 3)\n",
    "print(f\"GPU = {gpu_stats.name}. Max memory = {max_memory} GB.\")\n",
    "print(f\"{start_gpu_memory} GB of memory reserved.\")"
   ]
  },
  {
   "cell_type": "code",
   "execution_count": 19,
   "metadata": {},
   "outputs": [
    {
     "name": "stderr",
     "output_type": "stream",
     "text": [
      "==((====))==  Unsloth - 2x faster free finetuning | Num GPUs used = 1\n",
      "   \\\\   /|    Num examples = 8,835 | Num Epochs = 1 | Total steps = 120\n",
      "O^O/ \\_/ \\    Batch size per device = 2 | Gradient accumulation steps = 2\n",
      "\\        /    Data Parallel GPUs = 1 | Total batch size (2 x 2 x 1) = 4\n",
      " \"-____-\"     Trainable parameters = 24,313,856/1,865,526,272 (1.30% trained)\n",
      "\u001b[34m\u001b[1mwandb\u001b[0m: \u001b[33mWARNING\u001b[0m The `run_name` is currently set to the same value as `TrainingArguments.output_dir`. If this was not intended, please specify a different run name by setting the `TrainingArguments.run_name` parameter.\n"
     ]
    },
    {
     "name": "stdout",
     "output_type": "stream",
     "text": [
      "Unsloth: Will smartly offload gradients to save VRAM!\n"
     ]
    },
    {
     "data": {
      "text/html": [
       "\n",
       "    <div>\n",
       "      \n",
       "      <progress value='120' max='120' style='width:300px; height:20px; vertical-align: middle;'></progress>\n",
       "      [120/120 18:53, Epoch 0/1]\n",
       "    </div>\n",
       "    <table border=\"1\" class=\"dataframe\">\n",
       "  <thead>\n",
       " <tr style=\"text-align: left;\">\n",
       "      <th>Step</th>\n",
       "      <th>Training Loss</th>\n",
       "    </tr>\n",
       "  </thead>\n",
       "  <tbody>\n",
       "    <tr>\n",
       "      <td>1</td>\n",
       "      <td>1.336600</td>\n",
       "    </tr>\n",
       "    <tr>\n",
       "      <td>2</td>\n",
       "      <td>1.258700</td>\n",
       "    </tr>\n",
       "    <tr>\n",
       "      <td>3</td>\n",
       "      <td>1.144700</td>\n",
       "    </tr>\n",
       "    <tr>\n",
       "      <td>4</td>\n",
       "      <td>1.187400</td>\n",
       "    </tr>\n",
       "    <tr>\n",
       "      <td>5</td>\n",
       "      <td>1.295400</td>\n",
       "    </tr>\n",
       "    <tr>\n",
       "      <td>6</td>\n",
       "      <td>1.149300</td>\n",
       "    </tr>\n",
       "    <tr>\n",
       "      <td>7</td>\n",
       "      <td>1.112100</td>\n",
       "    </tr>\n",
       "    <tr>\n",
       "      <td>8</td>\n",
       "      <td>0.845600</td>\n",
       "    </tr>\n",
       "    <tr>\n",
       "      <td>9</td>\n",
       "      <td>1.219700</td>\n",
       "    </tr>\n",
       "    <tr>\n",
       "      <td>10</td>\n",
       "      <td>1.179500</td>\n",
       "    </tr>\n",
       "    <tr>\n",
       "      <td>11</td>\n",
       "      <td>1.118300</td>\n",
       "    </tr>\n",
       "    <tr>\n",
       "      <td>12</td>\n",
       "      <td>1.203300</td>\n",
       "    </tr>\n",
       "    <tr>\n",
       "      <td>13</td>\n",
       "      <td>1.247800</td>\n",
       "    </tr>\n",
       "    <tr>\n",
       "      <td>14</td>\n",
       "      <td>1.000600</td>\n",
       "    </tr>\n",
       "    <tr>\n",
       "      <td>15</td>\n",
       "      <td>1.025700</td>\n",
       "    </tr>\n",
       "    <tr>\n",
       "      <td>16</td>\n",
       "      <td>1.088800</td>\n",
       "    </tr>\n",
       "    <tr>\n",
       "      <td>17</td>\n",
       "      <td>1.191200</td>\n",
       "    </tr>\n",
       "    <tr>\n",
       "      <td>18</td>\n",
       "      <td>1.253900</td>\n",
       "    </tr>\n",
       "    <tr>\n",
       "      <td>19</td>\n",
       "      <td>1.120600</td>\n",
       "    </tr>\n",
       "    <tr>\n",
       "      <td>20</td>\n",
       "      <td>0.936000</td>\n",
       "    </tr>\n",
       "    <tr>\n",
       "      <td>21</td>\n",
       "      <td>1.046100</td>\n",
       "    </tr>\n",
       "    <tr>\n",
       "      <td>22</td>\n",
       "      <td>1.119200</td>\n",
       "    </tr>\n",
       "    <tr>\n",
       "      <td>23</td>\n",
       "      <td>0.924700</td>\n",
       "    </tr>\n",
       "    <tr>\n",
       "      <td>24</td>\n",
       "      <td>1.064700</td>\n",
       "    </tr>\n",
       "    <tr>\n",
       "      <td>25</td>\n",
       "      <td>0.884200</td>\n",
       "    </tr>\n",
       "    <tr>\n",
       "      <td>26</td>\n",
       "      <td>0.987700</td>\n",
       "    </tr>\n",
       "    <tr>\n",
       "      <td>27</td>\n",
       "      <td>1.021400</td>\n",
       "    </tr>\n",
       "    <tr>\n",
       "      <td>28</td>\n",
       "      <td>1.038300</td>\n",
       "    </tr>\n",
       "    <tr>\n",
       "      <td>29</td>\n",
       "      <td>1.046500</td>\n",
       "    </tr>\n",
       "    <tr>\n",
       "      <td>30</td>\n",
       "      <td>0.818600</td>\n",
       "    </tr>\n",
       "    <tr>\n",
       "      <td>31</td>\n",
       "      <td>1.113600</td>\n",
       "    </tr>\n",
       "    <tr>\n",
       "      <td>32</td>\n",
       "      <td>0.882100</td>\n",
       "    </tr>\n",
       "    <tr>\n",
       "      <td>33</td>\n",
       "      <td>1.106200</td>\n",
       "    </tr>\n",
       "    <tr>\n",
       "      <td>34</td>\n",
       "      <td>1.096500</td>\n",
       "    </tr>\n",
       "    <tr>\n",
       "      <td>35</td>\n",
       "      <td>1.107600</td>\n",
       "    </tr>\n",
       "    <tr>\n",
       "      <td>36</td>\n",
       "      <td>1.079700</td>\n",
       "    </tr>\n",
       "    <tr>\n",
       "      <td>37</td>\n",
       "      <td>1.160100</td>\n",
       "    </tr>\n",
       "    <tr>\n",
       "      <td>38</td>\n",
       "      <td>1.248600</td>\n",
       "    </tr>\n",
       "    <tr>\n",
       "      <td>39</td>\n",
       "      <td>1.181400</td>\n",
       "    </tr>\n",
       "    <tr>\n",
       "      <td>40</td>\n",
       "      <td>0.971100</td>\n",
       "    </tr>\n",
       "    <tr>\n",
       "      <td>41</td>\n",
       "      <td>1.143100</td>\n",
       "    </tr>\n",
       "    <tr>\n",
       "      <td>42</td>\n",
       "      <td>1.114200</td>\n",
       "    </tr>\n",
       "    <tr>\n",
       "      <td>43</td>\n",
       "      <td>1.051500</td>\n",
       "    </tr>\n",
       "    <tr>\n",
       "      <td>44</td>\n",
       "      <td>1.060600</td>\n",
       "    </tr>\n",
       "    <tr>\n",
       "      <td>45</td>\n",
       "      <td>1.069100</td>\n",
       "    </tr>\n",
       "    <tr>\n",
       "      <td>46</td>\n",
       "      <td>0.965000</td>\n",
       "    </tr>\n",
       "    <tr>\n",
       "      <td>47</td>\n",
       "      <td>1.078100</td>\n",
       "    </tr>\n",
       "    <tr>\n",
       "      <td>48</td>\n",
       "      <td>0.957300</td>\n",
       "    </tr>\n",
       "    <tr>\n",
       "      <td>49</td>\n",
       "      <td>0.994300</td>\n",
       "    </tr>\n",
       "    <tr>\n",
       "      <td>50</td>\n",
       "      <td>1.045300</td>\n",
       "    </tr>\n",
       "    <tr>\n",
       "      <td>51</td>\n",
       "      <td>1.088600</td>\n",
       "    </tr>\n",
       "    <tr>\n",
       "      <td>52</td>\n",
       "      <td>1.021300</td>\n",
       "    </tr>\n",
       "    <tr>\n",
       "      <td>53</td>\n",
       "      <td>1.020500</td>\n",
       "    </tr>\n",
       "    <tr>\n",
       "      <td>54</td>\n",
       "      <td>1.229300</td>\n",
       "    </tr>\n",
       "    <tr>\n",
       "      <td>55</td>\n",
       "      <td>1.112100</td>\n",
       "    </tr>\n",
       "    <tr>\n",
       "      <td>56</td>\n",
       "      <td>1.008600</td>\n",
       "    </tr>\n",
       "    <tr>\n",
       "      <td>57</td>\n",
       "      <td>0.974400</td>\n",
       "    </tr>\n",
       "    <tr>\n",
       "      <td>58</td>\n",
       "      <td>1.166200</td>\n",
       "    </tr>\n",
       "    <tr>\n",
       "      <td>59</td>\n",
       "      <td>1.127400</td>\n",
       "    </tr>\n",
       "    <tr>\n",
       "      <td>60</td>\n",
       "      <td>0.949400</td>\n",
       "    </tr>\n",
       "    <tr>\n",
       "      <td>61</td>\n",
       "      <td>1.113600</td>\n",
       "    </tr>\n",
       "    <tr>\n",
       "      <td>62</td>\n",
       "      <td>0.976800</td>\n",
       "    </tr>\n",
       "    <tr>\n",
       "      <td>63</td>\n",
       "      <td>1.044400</td>\n",
       "    </tr>\n",
       "    <tr>\n",
       "      <td>64</td>\n",
       "      <td>1.018300</td>\n",
       "    </tr>\n",
       "    <tr>\n",
       "      <td>65</td>\n",
       "      <td>1.028200</td>\n",
       "    </tr>\n",
       "    <tr>\n",
       "      <td>66</td>\n",
       "      <td>1.002300</td>\n",
       "    </tr>\n",
       "    <tr>\n",
       "      <td>67</td>\n",
       "      <td>1.135200</td>\n",
       "    </tr>\n",
       "    <tr>\n",
       "      <td>68</td>\n",
       "      <td>1.081000</td>\n",
       "    </tr>\n",
       "    <tr>\n",
       "      <td>69</td>\n",
       "      <td>1.015400</td>\n",
       "    </tr>\n",
       "    <tr>\n",
       "      <td>70</td>\n",
       "      <td>0.975100</td>\n",
       "    </tr>\n",
       "    <tr>\n",
       "      <td>71</td>\n",
       "      <td>1.139900</td>\n",
       "    </tr>\n",
       "    <tr>\n",
       "      <td>72</td>\n",
       "      <td>1.115100</td>\n",
       "    </tr>\n",
       "    <tr>\n",
       "      <td>73</td>\n",
       "      <td>1.123300</td>\n",
       "    </tr>\n",
       "    <tr>\n",
       "      <td>74</td>\n",
       "      <td>0.990900</td>\n",
       "    </tr>\n",
       "    <tr>\n",
       "      <td>75</td>\n",
       "      <td>0.947800</td>\n",
       "    </tr>\n",
       "    <tr>\n",
       "      <td>76</td>\n",
       "      <td>0.940800</td>\n",
       "    </tr>\n",
       "    <tr>\n",
       "      <td>77</td>\n",
       "      <td>1.153500</td>\n",
       "    </tr>\n",
       "    <tr>\n",
       "      <td>78</td>\n",
       "      <td>0.937800</td>\n",
       "    </tr>\n",
       "    <tr>\n",
       "      <td>79</td>\n",
       "      <td>1.050100</td>\n",
       "    </tr>\n",
       "    <tr>\n",
       "      <td>80</td>\n",
       "      <td>1.008100</td>\n",
       "    </tr>\n",
       "    <tr>\n",
       "      <td>81</td>\n",
       "      <td>1.225900</td>\n",
       "    </tr>\n",
       "    <tr>\n",
       "      <td>82</td>\n",
       "      <td>1.095200</td>\n",
       "    </tr>\n",
       "    <tr>\n",
       "      <td>83</td>\n",
       "      <td>0.963600</td>\n",
       "    </tr>\n",
       "    <tr>\n",
       "      <td>84</td>\n",
       "      <td>0.903800</td>\n",
       "    </tr>\n",
       "    <tr>\n",
       "      <td>85</td>\n",
       "      <td>1.121800</td>\n",
       "    </tr>\n",
       "    <tr>\n",
       "      <td>86</td>\n",
       "      <td>1.113300</td>\n",
       "    </tr>\n",
       "    <tr>\n",
       "      <td>87</td>\n",
       "      <td>1.164500</td>\n",
       "    </tr>\n",
       "    <tr>\n",
       "      <td>88</td>\n",
       "      <td>1.054600</td>\n",
       "    </tr>\n",
       "    <tr>\n",
       "      <td>89</td>\n",
       "      <td>0.915900</td>\n",
       "    </tr>\n",
       "    <tr>\n",
       "      <td>90</td>\n",
       "      <td>1.057700</td>\n",
       "    </tr>\n",
       "    <tr>\n",
       "      <td>91</td>\n",
       "      <td>0.977400</td>\n",
       "    </tr>\n",
       "    <tr>\n",
       "      <td>92</td>\n",
       "      <td>1.001900</td>\n",
       "    </tr>\n",
       "    <tr>\n",
       "      <td>93</td>\n",
       "      <td>1.185000</td>\n",
       "    </tr>\n",
       "    <tr>\n",
       "      <td>94</td>\n",
       "      <td>1.036900</td>\n",
       "    </tr>\n",
       "    <tr>\n",
       "      <td>95</td>\n",
       "      <td>1.185900</td>\n",
       "    </tr>\n",
       "    <tr>\n",
       "      <td>96</td>\n",
       "      <td>0.906500</td>\n",
       "    </tr>\n",
       "    <tr>\n",
       "      <td>97</td>\n",
       "      <td>1.060200</td>\n",
       "    </tr>\n",
       "    <tr>\n",
       "      <td>98</td>\n",
       "      <td>0.941100</td>\n",
       "    </tr>\n",
       "    <tr>\n",
       "      <td>99</td>\n",
       "      <td>0.953800</td>\n",
       "    </tr>\n",
       "    <tr>\n",
       "      <td>100</td>\n",
       "      <td>1.154600</td>\n",
       "    </tr>\n",
       "    <tr>\n",
       "      <td>101</td>\n",
       "      <td>1.177700</td>\n",
       "    </tr>\n",
       "    <tr>\n",
       "      <td>102</td>\n",
       "      <td>1.121600</td>\n",
       "    </tr>\n",
       "    <tr>\n",
       "      <td>103</td>\n",
       "      <td>1.086900</td>\n",
       "    </tr>\n",
       "    <tr>\n",
       "      <td>104</td>\n",
       "      <td>1.140200</td>\n",
       "    </tr>\n",
       "    <tr>\n",
       "      <td>105</td>\n",
       "      <td>1.042400</td>\n",
       "    </tr>\n",
       "    <tr>\n",
       "      <td>106</td>\n",
       "      <td>1.145200</td>\n",
       "    </tr>\n",
       "    <tr>\n",
       "      <td>107</td>\n",
       "      <td>0.954600</td>\n",
       "    </tr>\n",
       "    <tr>\n",
       "      <td>108</td>\n",
       "      <td>1.079000</td>\n",
       "    </tr>\n",
       "    <tr>\n",
       "      <td>109</td>\n",
       "      <td>1.084100</td>\n",
       "    </tr>\n",
       "    <tr>\n",
       "      <td>110</td>\n",
       "      <td>1.134700</td>\n",
       "    </tr>\n",
       "    <tr>\n",
       "      <td>111</td>\n",
       "      <td>1.111400</td>\n",
       "    </tr>\n",
       "    <tr>\n",
       "      <td>112</td>\n",
       "      <td>1.196700</td>\n",
       "    </tr>\n",
       "    <tr>\n",
       "      <td>113</td>\n",
       "      <td>0.935500</td>\n",
       "    </tr>\n",
       "    <tr>\n",
       "      <td>114</td>\n",
       "      <td>1.018900</td>\n",
       "    </tr>\n",
       "    <tr>\n",
       "      <td>115</td>\n",
       "      <td>1.091000</td>\n",
       "    </tr>\n",
       "    <tr>\n",
       "      <td>116</td>\n",
       "      <td>0.847200</td>\n",
       "    </tr>\n",
       "    <tr>\n",
       "      <td>117</td>\n",
       "      <td>1.027700</td>\n",
       "    </tr>\n",
       "    <tr>\n",
       "      <td>118</td>\n",
       "      <td>1.053700</td>\n",
       "    </tr>\n",
       "    <tr>\n",
       "      <td>119</td>\n",
       "      <td>1.224100</td>\n",
       "    </tr>\n",
       "    <tr>\n",
       "      <td>120</td>\n",
       "      <td>1.013400</td>\n",
       "    </tr>\n",
       "  </tbody>\n",
       "</table><p>"
      ],
      "text/plain": [
       "<IPython.core.display.HTML object>"
      ]
     },
     "metadata": {},
     "output_type": "display_data"
    },
    {
     "data": {
      "text/html": [],
      "text/plain": [
       "<IPython.core.display.HTML object>"
      ]
     },
     "metadata": {},
     "output_type": "display_data"
    },
    {
     "data": {
      "text/html": [
       "<br>    <style><br>        .wandb-row {<br>            display: flex;<br>            flex-direction: row;<br>            flex-wrap: wrap;<br>            justify-content: flex-start;<br>            width: 100%;<br>        }<br>        .wandb-col {<br>            display: flex;<br>            flex-direction: column;<br>            flex-basis: 100%;<br>            flex: 1;<br>            padding: 10px;<br>        }<br>    </style><br><div class=\"wandb-row\"><div class=\"wandb-col\"><h3>Run history:</h3><br/><table class=\"wandb\"><tr><td>train/epoch</td><td>▁▁▁▁▂▂▂▂▂▂▃▃▃▃▃▃▃▃▄▄▅▅▅▅▅▆▆▆▆▆▆▇▇▇▇█████</td></tr><tr><td>train/global_step</td><td>▁▁▁▂▂▂▂▃▃▃▃▃▃▄▄▄▄▄▄▄▅▅▅▅▆▆▆▆▆▆▇▇▇▇▇▇▇███</td></tr><tr><td>train/grad_norm</td><td>▅▆▁▃▃▄▄▅▄▃▅▅▅▅▅▅▄▅▄▄▅▄▆▆▅▆▄▆▆▇▆▆▅▇▆▆▇▇▆█</td></tr><tr><td>train/learning_rate</td><td>▂▄▅▇██▇▇▇▇▇▆▆▆▆▆▆▅▅▅▅▅▅▅▄▄▄▄▄▃▃▃▃▃▃▂▂▂▂▁</td></tr><tr><td>train/loss</td><td>█▅▃▄▇▂▅▂▄▁▅▆▃▅▄▆▆▂▃▄▆▅▂▂▇▄▃▄▁▄▂▆▅▆▄▅▆▇▂▄</td></tr></table><br/></div><div class=\"wandb-col\"><h3>Run summary:</h3><br/><table class=\"wandb\"><tr><td>total_flos</td><td>8384528787701760.0</td></tr><tr><td>train/epoch</td><td>0.05432</td></tr><tr><td>train/global_step</td><td>120</td></tr><tr><td>train/grad_norm</td><td>0.30234</td></tr><tr><td>train/learning_rate</td><td>0</td></tr><tr><td>train/loss</td><td>1.0134</td></tr><tr><td>train_loss</td><td>1.06911</td></tr><tr><td>train_runtime</td><td>1173.3303</td></tr><tr><td>train_samples_per_second</td><td>0.409</td></tr><tr><td>train_steps_per_second</td><td>0.102</td></tr></table><br/></div></div>"
      ],
      "text/plain": [
       "<IPython.core.display.HTML object>"
      ]
     },
     "metadata": {},
     "output_type": "display_data"
    },
    {
     "data": {
      "text/html": [
       " View run <strong style=\"color:#cdcd00\">stilted-fog-37</strong> at: <a href='https://wandb.ai/senthilkumarn/llama-ft/runs/irzu939g' target=\"_blank\">https://wandb.ai/senthilkumarn/llama-ft/runs/irzu939g</a><br> View project at: <a href='https://wandb.ai/senthilkumarn/llama-ft' target=\"_blank\">https://wandb.ai/senthilkumarn/llama-ft</a><br>Synced 5 W&B file(s), 0 media file(s), 0 artifact file(s) and 0 other file(s)"
      ],
      "text/plain": [
       "<IPython.core.display.HTML object>"
      ]
     },
     "metadata": {},
     "output_type": "display_data"
    },
    {
     "data": {
      "text/html": [
       "Find logs at: <code>./wandb/run-20250310_183018-irzu939g/logs</code>"
      ],
      "text/plain": [
       "<IPython.core.display.HTML object>"
      ]
     },
     "metadata": {},
     "output_type": "display_data"
    }
   ],
   "source": [
    "trainer_stats = trainer.train()\n",
    "wandb.finish()"
   ]
  },
  {
   "cell_type": "code",
   "execution_count": 20,
   "metadata": {},
   "outputs": [
    {
     "name": "stdout",
     "output_type": "stream",
     "text": [
      "1173.3303 seconds used for training.\n",
      "19.56 minutes used for training.\n",
      "Peak reserved memory = 3.127 GB.\n",
      "Peak reserved memory for training = 0.467 GB.\n",
      "Peak reserved memory % of max memory = 78.175 %.\n",
      "Peak reserved memory for training % of max memory = 11.675 %.\n"
     ]
    }
   ],
   "source": [
    "# Show final memory and time stats\n",
    "used_memory = round(torch.cuda.max_memory_reserved() / 1024 / 1024 / 1024, 3)\n",
    "used_memory_for_lora = round(used_memory - start_gpu_memory, 3)\n",
    "used_percentage = round(used_memory / max_memory * 100, 3)\n",
    "lora_percentage = round(used_memory_for_lora / max_memory * 100, 3)\n",
    "print(f\"{trainer_stats.metrics['train_runtime']} seconds used for training.\")\n",
    "print(\n",
    "    f\"{round(trainer_stats.metrics['train_runtime']/60, 2)} minutes used for training.\"\n",
    ")\n",
    "print(f\"Peak reserved memory = {used_memory} GB.\")\n",
    "print(f\"Peak reserved memory for training = {used_memory_for_lora} GB.\")\n",
    "print(f\"Peak reserved memory % of max memory = {used_percentage} %.\")\n",
    "print(f\"Peak reserved memory for training % of max memory = {lora_percentage} %.\")"
   ]
  },
  {
   "cell_type": "code",
   "execution_count": 21,
   "metadata": {},
   "outputs": [],
   "source": [
    "# test_dataset[0]"
   ]
  },
  {
   "cell_type": "code",
   "execution_count": 22,
   "metadata": {},
   "outputs": [
    {
     "name": "stderr",
     "output_type": "stream",
     "text": [
      "The attention mask is not set and cannot be inferred from input because pad token is same as eos token. As a consequence, you may observe unexpected behavior. Please pass your input's `attention_mask` to obtain reliable results.\n"
     ]
    },
    {
     "data": {
      "text/plain": [
       "['<|begin_of_text|><|start_header_id|>system<|end_header_id|>\\n\\nCutting Knowledge Date: December 2023\\nToday Date: 26 July 2024\\n\\n<|eot_id|><|start_header_id|>user<|end_header_id|>\\n\\nwhich is greater 9.9 or 9.11?<|eot_id|><|start_header_id|>assistant<|end_header_id|>\\n\\n9.11 is greater than 9.9.<|eot_id|>']"
      ]
     },
     "execution_count": 22,
     "metadata": {},
     "output_type": "execute_result"
    }
   ],
   "source": [
    "from unsloth.chat_templates import get_chat_template\n",
    "\n",
    "tokenizer = get_chat_template(\n",
    "    tokenizer,\n",
    "    chat_template = \"llama-3.1\",\n",
    ")\n",
    "FastLanguageModel.for_inference(model) # Enable native 2x faster inference\n",
    "\n",
    "messages = [\n",
    "    {\"role\": \"user\", \"content\": \"which is greater 9.9 or 9.11?\"},\n",
    "]\n",
    "inputs = tokenizer.apply_chat_template(\n",
    "    messages,\n",
    "    tokenize = True,\n",
    "    add_generation_prompt = True, # Must add for generation\n",
    "    return_tensors = \"pt\",\n",
    ").to(\"cuda\")\n",
    "\n",
    "outputs = model.generate(input_ids = inputs, max_new_tokens = 512, use_cache = True,\n",
    "                         temperature = 1.5, min_p = 0.1)\n",
    "tokenizer.batch_decode(outputs)"
   ]
  },
  {
   "cell_type": "code",
   "execution_count": 23,
   "metadata": {},
   "outputs": [
    {
     "data": {
      "text/plain": [
       "('SciLlama-3.2-3b-lora/tokenizer_config.json',\n",
       " 'SciLlama-3.2-3b-lora/special_tokens_map.json',\n",
       " 'SciLlama-3.2-3b-lora/tokenizer.json')"
      ]
     },
     "execution_count": 23,
     "metadata": {},
     "output_type": "execute_result"
    }
   ],
   "source": [
    "model.save_pretrained(\"SciLlama-3.2-3b-lora\")  # Local saving\n",
    "tokenizer.save_pretrained(\"SciLlama-3.2-3b-lora\")\n",
    "# model.push_to_hub(\"your_name/lora_model\", token = \"...\") # Online saving\n",
    "# tokenizer.push_to_hub(\"your_name/lora_model\", token = \"...\") # Online saving"
   ]
  },
  {
   "cell_type": "code",
   "execution_count": 1,
   "metadata": {},
   "outputs": [
    {
     "name": "stdout",
     "output_type": "stream",
     "text": [
      "🦥 Unsloth: Will patch your computer to enable 2x faster free finetuning.\n",
      "🦥 Unsloth Zoo will now patch everything to make training faster!\n",
      "[2025-03-10 18:57:43,033] [INFO] [real_accelerator.py:222:get_accelerator] Setting ds_accelerator to cuda (auto detect)\n"
     ]
    },
    {
     "name": "stderr",
     "output_type": "stream",
     "text": [
      "/usr/bin/ld: cannot find -laio: No such file or directory\n",
      "collect2: error: ld returned 1 exit status\n",
      "/usr/bin/ld: cannot find -laio: No such file or directory\n",
      "collect2: error: ld returned 1 exit status\n"
     ]
    },
    {
     "name": "stdout",
     "output_type": "stream",
     "text": [
      "==((====))==  Unsloth 2025.3.9: Fast Llama patching. Transformers: 4.46.2.\n",
      "   \\\\   /|    NVIDIA GeForce RTX 3050 Laptop GPU. Num GPUs = 1. Max memory: 4.0 GB. Platform: Linux.\n",
      "O^O/ \\_/ \\    Torch: 2.6.0+cu126. CUDA: 8.6. CUDA Toolkit: 12.6. Triton: 3.2.0\n",
      "\\        /    Bfloat16 = TRUE. FA [Xformers = 0.0.29.post3. FA2 = True]\n",
      " \"-____-\"     Free license: http://github.com/unslothai/unsloth\n",
      "Unsloth: Fast downloading is enabled - ignore downloading bars which are red colored!\n"
     ]
    },
    {
     "name": "stderr",
     "output_type": "stream",
     "text": [
      "Unsloth 2025.3.9 patched 28 layers with 28 QKV layers, 28 O layers and 28 MLP layers.\n",
      "The attention mask is not set and cannot be inferred from input because pad token is same as eos token. As a consequence, you may observe unexpected behavior. Please pass your input's `attention_mask` to obtain reliable results.\n"
     ]
    },
    {
     "name": "stdout",
     "output_type": "stream",
     "text": [
      "Bernoulli's principle is a fundamental concept in fluid dynamics that describes the relationship between pressure and velocity of fluids in motion. While it primarily applies to Newtonian fluids, its principles can be extended to non-Newtonian fluids with some modifications.\n",
      "\n",
      "Key differences:\n",
      "1. Viscosity: Non-Newtonian fluids have varying viscosities depending on shear rate, whereas Newtonian fluids have constant viscosity.\n",
      "2. Shear stress: Non-Newtonian fluids exhibit shear stress-dependent viscosity, whereas Newtonian fluids have constant viscosity.\n",
      "3. Flow behavior: Non-Newtonian fluids can exhibit complex flow patterns, such as shear-thinning or shear-hardening, not observed in Newtonian fluids.\n",
      "4. Pressure-velocity relationship: In non-Newtonian fluids, the pressure-velocity relationship is not linear, unlike in Newtonian fluids.\n",
      "\n",
      "Application to non-Newtonian fluids:\n",
      "1. Complex flow patterns: Bernoulli's principle helps understand the behavior of non-Newtonian fluids under various flow conditions.\n",
      "2. Non-linear pressure-velocity relationships: It explains the non-linear pressure-velocity relationship observed in non-Newtonian fluids.\n",
      "3. Shear stress effects: It highlights the influence of shear stress on viscosity in non-Newtonian fluids.\n",
      "\n",
      "While Bernoulli's\n"
     ]
    }
   ],
   "source": [
    "from unsloth import FastLanguageModel\n",
    "\n",
    "model, tokenizer = FastLanguageModel.from_pretrained(\n",
    "    model_name = '../SciLlama-3.2-3b-lora',\n",
    "    max_seq_length = 2048,\n",
    "    dtype = None,\n",
    "    load_in_4bit = True,\n",
    ")\n",
    "FastLanguageModel.for_inference(model) # Enable native 2x faster inference\n",
    "\n",
    "messages = [\n",
    "    {'role': 'system', 'content': 'You are an expert STEM tutor. Explain STEM topics clearly, accurately, and concisely for students.'},\n",
    "    {\"role\": \"user\", \"content\": \"How does Bernoulli's principle apply to non-Newtonian fluids, and what are the key differences compared to Newtonian fluids?\"},\n",
    "]\n",
    "inputs = tokenizer.apply_chat_template(\n",
    "    messages,\n",
    "    tokenize = True,\n",
    "    add_generation_prompt = True, # Must add for generation\n",
    "    return_tensors = \"pt\",\n",
    ").to(\"cuda\")\n",
    "\n",
    "from transformers import TextStreamer\n",
    "text_streamer = TextStreamer(tokenizer, skip_prompt = True)\n",
    "_ = model.generate(input_ids = inputs, streamer = text_streamer, max_new_tokens = 256,\n",
    "                   use_cache = True, temperature = 0.7, min_p = 0.1)"
   ]
  },
  {
   "cell_type": "code",
   "execution_count": null,
   "metadata": {},
   "outputs": [],
   "source": []
  }
 ],
 "metadata": {
  "kernelspec": {
   "display_name": "torch_env",
   "language": "python",
   "name": "python3"
  },
  "language_info": {
   "codemirror_mode": {
    "name": "ipython",
    "version": 3
   },
   "file_extension": ".py",
   "mimetype": "text/x-python",
   "name": "python",
   "nbconvert_exporter": "python",
   "pygments_lexer": "ipython3",
   "version": "3.12.3"
  }
 },
 "nbformat": 4,
 "nbformat_minor": 2
}
